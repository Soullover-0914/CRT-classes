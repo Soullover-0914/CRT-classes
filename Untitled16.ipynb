{
  "nbformat": 4,
  "nbformat_minor": 0,
  "metadata": {
    "colab": {
      "provenance": [],
      "authorship_tag": "ABX9TyOGjscNdm2EhXaLFzUURvSt",
      "include_colab_link": true
    },
    "kernelspec": {
      "name": "python3",
      "display_name": "Python 3"
    },
    "language_info": {
      "name": "python"
    }
  },
  "cells": [
    {
      "cell_type": "markdown",
      "metadata": {
        "id": "view-in-github",
        "colab_type": "text"
      },
      "source": [
        "<a href=\"https://colab.research.google.com/github/Soullover-0914/CRT-classes/blob/main/Untitled16.ipynb\" target=\"_parent\"><img src=\"https://colab.research.google.com/assets/colab-badge.svg\" alt=\"Open In Colab\"/></a>"
      ]
    },
    {
      "cell_type": "code",
      "execution_count": 3,
      "metadata": {
        "colab": {
          "base_uri": "https://localhost:8080/"
        },
        "id": "CmYYa81wpz78",
        "outputId": "da59827b-592c-4a62-936e-2d96c5cc7da7"
      },
      "outputs": [
        {
          "output_type": "stream",
          "name": "stdout",
          "text": [
            "Requirement already satisfied: SpeechRecognition in /usr/local/lib/python3.11/dist-packages (3.14.3)\n",
            "Requirement already satisfied: pydub in /usr/local/lib/python3.11/dist-packages (0.25.1)\n",
            "Requirement already satisfied: typing-extensions in /usr/local/lib/python3.11/dist-packages (from SpeechRecognition) (4.13.2)\n"
          ]
        }
      ],
      "source": [
        "!pip install SpeechRecognition pydub"
      ]
    },
    {
      "cell_type": "code",
      "source": [
        "!pip install transformers\n",
        "!pip install pipeline\n",
        "!pip install gTTS"
      ],
      "metadata": {
        "colab": {
          "base_uri": "https://localhost:8080/"
        },
        "id": "8UEhEo9NqDYO",
        "outputId": "d8a64924-2e60-4164-8200-02adf713f0ed"
      },
      "execution_count": 4,
      "outputs": [
        {
          "output_type": "stream",
          "name": "stdout",
          "text": [
            "Requirement already satisfied: transformers in /usr/local/lib/python3.11/dist-packages (4.51.3)\n",
            "Requirement already satisfied: filelock in /usr/local/lib/python3.11/dist-packages (from transformers) (3.18.0)\n",
            "Requirement already satisfied: huggingface-hub<1.0,>=0.30.0 in /usr/local/lib/python3.11/dist-packages (from transformers) (0.31.2)\n",
            "Requirement already satisfied: numpy>=1.17 in /usr/local/lib/python3.11/dist-packages (from transformers) (2.0.2)\n",
            "Requirement already satisfied: packaging>=20.0 in /usr/local/lib/python3.11/dist-packages (from transformers) (24.2)\n",
            "Requirement already satisfied: pyyaml>=5.1 in /usr/local/lib/python3.11/dist-packages (from transformers) (6.0.2)\n",
            "Requirement already satisfied: regex!=2019.12.17 in /usr/local/lib/python3.11/dist-packages (from transformers) (2024.11.6)\n",
            "Requirement already satisfied: requests in /usr/local/lib/python3.11/dist-packages (from transformers) (2.32.3)\n",
            "Requirement already satisfied: tokenizers<0.22,>=0.21 in /usr/local/lib/python3.11/dist-packages (from transformers) (0.21.1)\n",
            "Requirement already satisfied: safetensors>=0.4.3 in /usr/local/lib/python3.11/dist-packages (from transformers) (0.5.3)\n",
            "Requirement already satisfied: tqdm>=4.27 in /usr/local/lib/python3.11/dist-packages (from transformers) (4.67.1)\n",
            "Requirement already satisfied: fsspec>=2023.5.0 in /usr/local/lib/python3.11/dist-packages (from huggingface-hub<1.0,>=0.30.0->transformers) (2025.3.2)\n",
            "Requirement already satisfied: typing-extensions>=3.7.4.3 in /usr/local/lib/python3.11/dist-packages (from huggingface-hub<1.0,>=0.30.0->transformers) (4.13.2)\n",
            "Requirement already satisfied: charset-normalizer<4,>=2 in /usr/local/lib/python3.11/dist-packages (from requests->transformers) (3.4.2)\n",
            "Requirement already satisfied: idna<4,>=2.5 in /usr/local/lib/python3.11/dist-packages (from requests->transformers) (2.10)\n",
            "Requirement already satisfied: urllib3<3,>=1.21.1 in /usr/local/lib/python3.11/dist-packages (from requests->transformers) (2.4.0)\n",
            "Requirement already satisfied: certifi>=2017.4.17 in /usr/local/lib/python3.11/dist-packages (from requests->transformers) (2025.4.26)\n",
            "Requirement already satisfied: pipeline in /usr/local/lib/python3.11/dist-packages (0.1.0)\n",
            "Requirement already satisfied: gTTS in /usr/local/lib/python3.11/dist-packages (2.5.4)\n",
            "Requirement already satisfied: requests<3,>=2.27 in /usr/local/lib/python3.11/dist-packages (from gTTS) (2.32.3)\n",
            "Requirement already satisfied: click<8.2,>=7.1 in /usr/local/lib/python3.11/dist-packages (from gTTS) (8.1.8)\n",
            "Requirement already satisfied: charset-normalizer<4,>=2 in /usr/local/lib/python3.11/dist-packages (from requests<3,>=2.27->gTTS) (3.4.2)\n",
            "Requirement already satisfied: idna<4,>=2.5 in /usr/local/lib/python3.11/dist-packages (from requests<3,>=2.27->gTTS) (2.10)\n",
            "Requirement already satisfied: urllib3<3,>=1.21.1 in /usr/local/lib/python3.11/dist-packages (from requests<3,>=2.27->gTTS) (2.4.0)\n",
            "Requirement already satisfied: certifi>=2017.4.17 in /usr/local/lib/python3.11/dist-packages (from requests<3,>=2.27->gTTS) (2025.4.26)\n"
          ]
        }
      ]
    },
    {
      "cell_type": "code",
      "source": [
        "!pip install secure-smtplib"
      ],
      "metadata": {
        "colab": {
          "base_uri": "https://localhost:8080/"
        },
        "id": "C0nembVfrPll",
        "outputId": "86934f2b-641c-4d83-e5d9-7adddec0c08e"
      },
      "execution_count": 5,
      "outputs": [
        {
          "output_type": "stream",
          "name": "stdout",
          "text": [
            "Requirement already satisfied: secure-smtplib in /usr/local/lib/python3.11/dist-packages (0.1.1)\n"
          ]
        }
      ]
    },
    {
      "cell_type": "code",
      "source": [
        "from transformers import pipeline\n",
        "s = pipeline('summarization')"
      ],
      "metadata": {
        "colab": {
          "base_uri": "https://localhost:8080/"
        },
        "id": "qeuvOl9BqKyd",
        "outputId": "6a8ccbda-a225-437e-a011-fec2eed8ebee"
      },
      "execution_count": 6,
      "outputs": [
        {
          "output_type": "stream",
          "name": "stderr",
          "text": [
            "No model was supplied, defaulted to sshleifer/distilbart-cnn-12-6 and revision a4f8f3e (https://huggingface.co/sshleifer/distilbart-cnn-12-6).\n",
            "Using a pipeline without specifying a model name and revision in production is not recommended.\n",
            "/usr/local/lib/python3.11/dist-packages/huggingface_hub/utils/_auth.py:94: UserWarning: \n",
            "The secret `HF_TOKEN` does not exist in your Colab secrets.\n",
            "To authenticate with the Hugging Face Hub, create a token in your settings tab (https://huggingface.co/settings/tokens), set it as secret in your Google Colab and restart your session.\n",
            "You will be able to reuse this secret in all of your notebooks.\n",
            "Please note that authentication is recommended but still optional to access public models or datasets.\n",
            "  warnings.warn(\n",
            "Device set to use cpu\n"
          ]
        }
      ]
    },
    {
      "cell_type": "code",
      "source": [
        "from gtts import gTTS\n",
        "from IPython.display import Audio"
      ],
      "metadata": {
        "id": "AyovVw3TuC43"
      },
      "execution_count": 7,
      "outputs": []
    },
    {
      "cell_type": "code",
      "source": [
        "from pydub import AudioSegment\n",
        "mp3_file = '/content/AUD-20250521-WA0049.mp3'\n",
        "wav_file = '/content/AUD-20250521-WA0049.wav'\n",
        "audio = AudioSegment.from_mp3(mp3_file)\n",
        "audio.export(wav_file, format='wav')"
      ],
      "metadata": {
        "colab": {
          "base_uri": "https://localhost:8080/"
        },
        "id": "n-Wmo3dhuh5w",
        "outputId": "8e147fd5-8192-468f-813e-331efb5a03b0"
      },
      "execution_count": 8,
      "outputs": [
        {
          "output_type": "execute_result",
          "data": {
            "text/plain": [
              "<_io.BufferedRandom name='/content/AUD-20250521-WA0049.wav'>"
            ]
          },
          "metadata": {},
          "execution_count": 8
        }
      ]
    },
    {
      "cell_type": "code",
      "source": [
        "import speech_recognition as sr\n",
        "reco = sr.Recognizer()\n",
        "with sr.AudioFile('/content/AUD-20250521-WA0049.wav') as source:\n",
        "  audio_data = reco.record(source)\n",
        "  print(\"Transcript : \", reco.recognize_google(audio_data))"
      ],
      "metadata": {
        "colab": {
          "base_uri": "https://localhost:8080/"
        },
        "id": "35Iw8JtAvK0Y",
        "outputId": "2dfb0fc6-48ed-4a92-a610-ea7e70d25dc4"
      },
      "execution_count": 9,
      "outputs": [
        {
          "output_type": "stream",
          "name": "stdout",
          "text": [
            "Transcript :  hello everyone thank you guys for coming to our weekly Student Success meeting and let's just get started so I have our list of chronically absent students here and I've been noticing a traveling Trend a lot of students are skipping on Fridays does anyone have any idea what's going on I've heard some of my mentees talking about how it's really hard to get out of bed on Fridays it might be good if we did something like a pancake breakfast to encourage them to come I think that's a great idea let's try that next week it might also be because a lot of students have been getting sick now that it's getting colder outside I've had a number of students come by my office with symptoms like sniffling and coughing we should put up posters with tips for not getting sick since it's almost flu season like you know wash your hands after the bathroom stuff like that I think that's a good idea and it'll be a good reminder for the teachers as well so one of the things I wanted to talk about there's a student I've noticed here John Smith he's missed 7 days already and it's only November does anyone have an idea what's going on with him I might be able to fill in the gaps there I talked to John today and he's really stressed out he's been dealing with helping his parents take care of his younger siblings during the day it might actually be a good idea if he spoke to the guidance counselor a little bit I can talk to John today if you want to send him to my office after you meet with him it's a lot to deal with for middle school or great thanks and I can help out with the family child care needs I'll look for some free your low cost resources in the community to share with John and he can share them with his family great with some really good ideas here today thanks for coming and if no one has anything else I think we can wrap up\n"
          ]
        }
      ]
    },
    {
      "cell_type": "code",
      "source": [
        "t = 'hello everyone thank you guys for coming to our weekly Student Success meeting and let\\'s just get started so I have our list of chronically absent students here and I\\'ve been noticing a traveling Trend a lot of students are skipping on Fridays does anyone have any idea what\\'s going on I\\'ve heard some of my mentees talking about how it\\'s really hard to get out of bed on Fridays it might be good if we did something like a pancake breakfast to encourage them to come I think that\\'s a great idea let\\'s try that next week it might also be because a lot of students have been getting sick now that it\\'s getting colder outside I\\'ve had a number of students come by my office with symptoms like sniffling and coughing we should put up posters with tips for not getting sick since it\\'s almost flu season like you know wash your hands after the bathroom stuff like that I think that\\'s a good idea and it\\'ll be a good reminder for the teachers as well so one of the things I wanted to talk about there\\'s a student I\\'ve noticed here John Smith he\\'s missed 7 days already and it\\'s only November does anyone have an idea what\\'s going on with him I might be able to fill in the gaps there I talked to John today and he\\'s really stressed out he\\'s been dealing with helping his parents take care of his younger siblings during the day it might actually be a good idea if he spoke to the guidance counselor a little bit I can talk to John today if you want to send him to my office after you meet with him it\\'s a lot to deal with for middle school or great thanks and I can help out with the family child care needs I\\'ll look for some free your low cost resources in the community to share with John and he can share them with his family great with some really good ideas here today thanks for coming and if no one has anything else I think we can wrap up'"
      ],
      "metadata": {
        "id": "Lm9W51wGwUXm"
      },
      "execution_count": 10,
      "outputs": []
    },
    {
      "cell_type": "code",
      "source": [
        "result = s(t)\n",
        "a= result[0].get('summary_text')"
      ],
      "metadata": {
        "id": "J0TWklYXwe-O"
      },
      "execution_count": 11,
      "outputs": []
    },
    {
      "cell_type": "code",
      "source": [
        "print(a)"
      ],
      "metadata": {
        "colab": {
          "base_uri": "https://localhost:8080/"
        },
        "id": "IdwHQe_3_1q7",
        "outputId": "9e15f335-02bb-4730-c315-d6652e72517c"
      },
      "execution_count": 12,
      "outputs": [
        {
          "output_type": "stream",
          "name": "stdout",
          "text": [
            " A lot of students are skipping on Fridays . I've heard some of my mentees talking about how it's really hard to get out of bed on Fridays it might be good if we did something like a pancake breakfast to encourage them to come . A number of students have been getting sick now that it's getting colder outside . We should put up posters with tips for not getting sick since it's almost flu season like wash your hands after the bathroom stuff like that .\n"
          ]
        }
      ]
    },
    {
      "cell_type": "code",
      "source": [
        "sender_email = \"jyothiswaroopgolla@gmail.com\"\n",
        "receiver_email = \"chebrolutejasaisathwik@gmail.com\"\n",
        "password = \"avmx qltp oazu ayyg\"\n",
        "subject = \"Getting interatctions with colleagues\""
      ],
      "metadata": {
        "id": "jHl0b886rZ6N"
      },
      "execution_count": 13,
      "outputs": []
    },
    {
      "cell_type": "code",
      "source": [
        "from email.mime.multipart import MIMEMultipart\n",
        "from email.mime.text import MIMEText\n",
        "import smtplib"
      ],
      "metadata": {
        "id": "pmoHxyf73G4k"
      },
      "execution_count": 14,
      "outputs": []
    },
    {
      "cell_type": "code",
      "source": [
        "msg = MIMEMultipart()\n",
        "msg['From'] = sender_email\n",
        "msg['To'] = receiver_email\n",
        "msg['Subject'] = subject"
      ],
      "metadata": {
        "id": "v4gblvLvs0bN"
      },
      "execution_count": 15,
      "outputs": []
    },
    {
      "cell_type": "code",
      "source": [
        "body = \"Hello \\n\\n\" + a + \"\\n\\n\" + \"Thank you\\nSwarrop\""
      ],
      "metadata": {
        "id": "sJUsLYrlsAnt"
      },
      "execution_count": 16,
      "outputs": []
    },
    {
      "cell_type": "code",
      "source": [
        "msg.attach(MIMEText(body, 'plain'))"
      ],
      "metadata": {
        "id": "JYo6l6yDs5vV"
      },
      "execution_count": 17,
      "outputs": []
    },
    {
      "cell_type": "code",
      "source": [
        "try:\n",
        "    server = smtplib.SMTP('smtp.gmail.com', 587)\n",
        "    server.starttls()\n",
        "    server.login(sender_email, password)\n",
        "    text = msg.as_string()\n",
        "    server.sendmail(sender_email, receiver_email, text)\n",
        "    server.quit()\n",
        "    print(\"Email sent successfully!\")\n",
        "except Exception as e:\n",
        "    print(f\"Error: {e}\")"
      ],
      "metadata": {
        "colab": {
          "base_uri": "https://localhost:8080/"
        },
        "id": "G2A3FSpTs89t",
        "outputId": "385fbab9-eb16-41a9-f91a-596aff696e66"
      },
      "execution_count": 18,
      "outputs": [
        {
          "output_type": "stream",
          "name": "stdout",
          "text": [
            "Email sent successfully!\n"
          ]
        }
      ]
    },
    {
      "cell_type": "code",
      "source": [
        "qa = pipeline('question-answering')"
      ],
      "metadata": {
        "colab": {
          "base_uri": "https://localhost:8080/"
        },
        "id": "xa2G6p-NAFIr",
        "outputId": "929ddcc4-c2f0-4b2e-939a-e69f00ce1454"
      },
      "execution_count": 19,
      "outputs": [
        {
          "output_type": "stream",
          "name": "stderr",
          "text": [
            "No model was supplied, defaulted to distilbert/distilbert-base-cased-distilled-squad and revision 564e9b5 (https://huggingface.co/distilbert/distilbert-base-cased-distilled-squad).\n",
            "Using a pipeline without specifying a model name and revision in production is not recommended.\n",
            "Device set to use cpu\n"
          ]
        }
      ]
    },
    {
      "cell_type": "code",
      "source": [
        "c = '''A lot of students are skipping on Fridays . I've heard some of my mentees talking about how it's really hard to get out of bed on Fridays it might be good if we did something like a pancake breakfast to encourage them to come . A number of students have been getting sick now that it's getting colder outside . We should put up posters with tips for not getting sick since it's almost flu season like wash your hands after the bathroom stuff like that '''"
      ],
      "metadata": {
        "id": "xDZ5xXX1FNX-"
      },
      "execution_count": 20,
      "outputs": []
    },
    {
      "cell_type": "code",
      "source": [
        "q = \"What is the motive of the meeting?\""
      ],
      "metadata": {
        "id": "w8HDw3HTFccW"
      },
      "execution_count": 21,
      "outputs": []
    },
    {
      "cell_type": "code",
      "source": [
        "result = qa(question=q, context=c)\n",
        "print(result)"
      ],
      "metadata": {
        "colab": {
          "base_uri": "https://localhost:8080/"
        },
        "id": "aNtJl_BQFiBl",
        "outputId": "5d287efb-0d08-42fe-a304-49cc23e972a6"
      },
      "execution_count": 22,
      "outputs": [
        {
          "output_type": "stream",
          "name": "stdout",
          "text": [
            "{'score': 0.05922260507941246, 'start': 22, 'end': 30, 'answer': 'skipping'}\n"
          ]
        }
      ]
    },
    {
      "cell_type": "code",
      "source": [
        "a = pipeline('sentiment-analysis')"
      ],
      "metadata": {
        "colab": {
          "base_uri": "https://localhost:8080/"
        },
        "id": "mdJdFxfbFpbm",
        "outputId": "6f64e2c1-ca50-4987-d6ea-1b7f34d64a57"
      },
      "execution_count": 23,
      "outputs": [
        {
          "output_type": "stream",
          "name": "stderr",
          "text": [
            "No model was supplied, defaulted to distilbert/distilbert-base-uncased-finetuned-sst-2-english and revision 714eb0f (https://huggingface.co/distilbert/distilbert-base-uncased-finetuned-sst-2-english).\n",
            "Using a pipeline without specifying a model name and revision in production is not recommended.\n",
            "Device set to use cpu\n"
          ]
        }
      ]
    },
    {
      "cell_type": "code",
      "source": [
        "text = input(\"Enter the text: \")\n",
        "result = a(text)\n",
        "print(result)\n"
      ],
      "metadata": {
        "colab": {
          "base_uri": "https://localhost:8080/"
        },
        "id": "Nk3vgSSoGCIG",
        "outputId": "2319a320-10dd-47ac-d364-c4a7bf9e6f44"
      },
      "execution_count": 24,
      "outputs": [
        {
          "output_type": "stream",
          "name": "stdout",
          "text": [
            "Enter the text: ther is no communication with colleagues\n",
            "[{'label': 'NEGATIVE', 'score': 0.9996961355209351}]\n"
          ]
        }
      ]
    },
    {
      "cell_type": "code",
      "source": [
        "text = input(\"Enter the text: \")\n",
        "result = a(text)\n",
        "print(result)\n"
      ],
      "metadata": {
        "colab": {
          "base_uri": "https://localhost:8080/"
        },
        "id": "bCuCMFJWGq_n",
        "outputId": "bc522e0c-9c6b-486a-f073-a687182d6dc4"
      },
      "execution_count": 25,
      "outputs": [
        {
          "output_type": "stream",
          "name": "stdout",
          "text": [
            "Enter the text: there is a better interaction with colleagues not bad!\n",
            "[{'label': 'POSITIVE', 'score': 0.9461965560913086}]\n"
          ]
        }
      ]
    },
    {
      "cell_type": "code",
      "source": [
        "!pip install googletrans==4.0.0-rc1"
      ],
      "metadata": {
        "colab": {
          "base_uri": "https://localhost:8080/"
        },
        "id": "23QqvsRGG15m",
        "outputId": "f32ffa18-bff9-43fb-c401-623e0a7e84c5"
      },
      "execution_count": 26,
      "outputs": [
        {
          "output_type": "stream",
          "name": "stdout",
          "text": [
            "Requirement already satisfied: googletrans==4.0.0-rc1 in /usr/local/lib/python3.11/dist-packages (4.0.0rc1)\n",
            "Requirement already satisfied: httpx==0.13.3 in /usr/local/lib/python3.11/dist-packages (from googletrans==4.0.0-rc1) (0.13.3)\n",
            "Requirement already satisfied: certifi in /usr/local/lib/python3.11/dist-packages (from httpx==0.13.3->googletrans==4.0.0-rc1) (2025.4.26)\n",
            "Requirement already satisfied: hstspreload in /usr/local/lib/python3.11/dist-packages (from httpx==0.13.3->googletrans==4.0.0-rc1) (2025.1.1)\n",
            "Requirement already satisfied: sniffio in /usr/local/lib/python3.11/dist-packages (from httpx==0.13.3->googletrans==4.0.0-rc1) (1.3.1)\n",
            "Requirement already satisfied: chardet==3.* in /usr/local/lib/python3.11/dist-packages (from httpx==0.13.3->googletrans==4.0.0-rc1) (3.0.4)\n",
            "Requirement already satisfied: idna==2.* in /usr/local/lib/python3.11/dist-packages (from httpx==0.13.3->googletrans==4.0.0-rc1) (2.10)\n",
            "Requirement already satisfied: rfc3986<2,>=1.3 in /usr/local/lib/python3.11/dist-packages (from httpx==0.13.3->googletrans==4.0.0-rc1) (1.5.0)\n",
            "Requirement already satisfied: httpcore==0.9.* in /usr/local/lib/python3.11/dist-packages (from httpx==0.13.3->googletrans==4.0.0-rc1) (0.9.1)\n",
            "Requirement already satisfied: h11<0.10,>=0.8 in /usr/local/lib/python3.11/dist-packages (from httpcore==0.9.*->httpx==0.13.3->googletrans==4.0.0-rc1) (0.9.0)\n",
            "Requirement already satisfied: h2==3.* in /usr/local/lib/python3.11/dist-packages (from httpcore==0.9.*->httpx==0.13.3->googletrans==4.0.0-rc1) (3.2.0)\n",
            "Requirement already satisfied: hyperframe<6,>=5.2.0 in /usr/local/lib/python3.11/dist-packages (from h2==3.*->httpcore==0.9.*->httpx==0.13.3->googletrans==4.0.0-rc1) (5.2.0)\n",
            "Requirement already satisfied: hpack<4,>=3.0 in /usr/local/lib/python3.11/dist-packages (from h2==3.*->httpcore==0.9.*->httpx==0.13.3->googletrans==4.0.0-rc1) (3.0.0)\n"
          ]
        }
      ]
    },
    {
      "cell_type": "code",
      "source": [
        "def translated_summary(text, dest_language):\n",
        "    \"\"\"\n",
        "    Translates the input text to the specified destination language.\n",
        "\n",
        "    Args:\n",
        "        text (str): The text to translate.\n",
        "        dest_language (str): The language code of the desired translation.\n",
        "\n",
        "    Returns:\n",
        "        str: The translated text.\n",
        "    \"\"\""
      ],
      "metadata": {
        "id": "bgKSwKPqNdUA"
      },
      "execution_count": 27,
      "outputs": []
    },
    {
      "cell_type": "code",
      "source": [
        "from googletrans import Translator\n",
        "t = Translator()\n",
        "from googletrans import Translator\n",
        "t = Translator()\n",
        "text = input(\"Enter the text : \")\n",
        "translated = t.translate(text,src=\"en\", dest='ta')\n",
        "print(translated.text)"
      ],
      "metadata": {
        "colab": {
          "base_uri": "https://localhost:8080/"
        },
        "id": "lBB0HtKLHgLA",
        "outputId": "69dce733-ec81-4573-8107-1635c4b6531c"
      },
      "execution_count": 28,
      "outputs": [
        {
          "output_type": "stream",
          "name": "stdout",
          "text": [
            "Enter the text : Meeting was smoothly ended\n",
            "கூட்டம் சீராக முடிந்தது\n"
          ]
        }
      ]
    },
    {
      "cell_type": "code",
      "source": [
        "from googletrans import LANGUAGES\n",
        "available_languages = LANGUAGES\n",
        "print(\"Available languages:\",available_languages)"
      ],
      "metadata": {
        "colab": {
          "base_uri": "https://localhost:8080/"
        },
        "id": "lnMTwU92JAPH",
        "outputId": "3accd385-0714-4c3f-9564-dfd5813d3c2e"
      },
      "execution_count": 29,
      "outputs": [
        {
          "output_type": "stream",
          "name": "stdout",
          "text": [
            "Available languages: {'af': 'afrikaans', 'sq': 'albanian', 'am': 'amharic', 'ar': 'arabic', 'hy': 'armenian', 'az': 'azerbaijani', 'eu': 'basque', 'be': 'belarusian', 'bn': 'bengali', 'bs': 'bosnian', 'bg': 'bulgarian', 'ca': 'catalan', 'ceb': 'cebuano', 'ny': 'chichewa', 'zh-cn': 'chinese (simplified)', 'zh-tw': 'chinese (traditional)', 'co': 'corsican', 'hr': 'croatian', 'cs': 'czech', 'da': 'danish', 'nl': 'dutch', 'en': 'english', 'eo': 'esperanto', 'et': 'estonian', 'tl': 'filipino', 'fi': 'finnish', 'fr': 'french', 'fy': 'frisian', 'gl': 'galician', 'ka': 'georgian', 'de': 'german', 'el': 'greek', 'gu': 'gujarati', 'ht': 'haitian creole', 'ha': 'hausa', 'haw': 'hawaiian', 'iw': 'hebrew', 'he': 'hebrew', 'hi': 'hindi', 'hmn': 'hmong', 'hu': 'hungarian', 'is': 'icelandic', 'ig': 'igbo', 'id': 'indonesian', 'ga': 'irish', 'it': 'italian', 'ja': 'japanese', 'jw': 'javanese', 'kn': 'kannada', 'kk': 'kazakh', 'km': 'khmer', 'ko': 'korean', 'ku': 'kurdish (kurmanji)', 'ky': 'kyrgyz', 'lo': 'lao', 'la': 'latin', 'lv': 'latvian', 'lt': 'lithuanian', 'lb': 'luxembourgish', 'mk': 'macedonian', 'mg': 'malagasy', 'ms': 'malay', 'ml': 'malayalam', 'mt': 'maltese', 'mi': 'maori', 'mr': 'marathi', 'mn': 'mongolian', 'my': 'myanmar (burmese)', 'ne': 'nepali', 'no': 'norwegian', 'or': 'odia', 'ps': 'pashto', 'fa': 'persian', 'pl': 'polish', 'pt': 'portuguese', 'pa': 'punjabi', 'ro': 'romanian', 'ru': 'russian', 'sm': 'samoan', 'gd': 'scots gaelic', 'sr': 'serbian', 'st': 'sesotho', 'sn': 'shona', 'sd': 'sindhi', 'si': 'sinhala', 'sk': 'slovak', 'sl': 'slovenian', 'so': 'somali', 'es': 'spanish', 'su': 'sundanese', 'sw': 'swahili', 'sv': 'swedish', 'tg': 'tajik', 'ta': 'tamil', 'te': 'telugu', 'th': 'thai', 'tr': 'turkish', 'uk': 'ukrainian', 'ur': 'urdu', 'ug': 'uyghur', 'uz': 'uzbek', 'vi': 'vietnamese', 'cy': 'welsh', 'xh': 'xhosa', 'yi': 'yiddish', 'yo': 'yoruba', 'zu': 'zulu'}\n"
          ]
        }
      ]
    },
    {
      "cell_type": "code",
      "source": [
        "print(\"please select a language code from the following list:\")\n",
        "for code, language in available_languages.items():\n",
        "    print(f\"{code}: {language}\")"
      ],
      "metadata": {
        "colab": {
          "base_uri": "https://localhost:8080/"
        },
        "id": "67RnQbAcJYOP",
        "outputId": "15d1c064-085c-48b6-8da8-fc35c006da44"
      },
      "execution_count": 30,
      "outputs": [
        {
          "output_type": "stream",
          "name": "stdout",
          "text": [
            "please select a language code from the following list:\n",
            "af: afrikaans\n",
            "sq: albanian\n",
            "am: amharic\n",
            "ar: arabic\n",
            "hy: armenian\n",
            "az: azerbaijani\n",
            "eu: basque\n",
            "be: belarusian\n",
            "bn: bengali\n",
            "bs: bosnian\n",
            "bg: bulgarian\n",
            "ca: catalan\n",
            "ceb: cebuano\n",
            "ny: chichewa\n",
            "zh-cn: chinese (simplified)\n",
            "zh-tw: chinese (traditional)\n",
            "co: corsican\n",
            "hr: croatian\n",
            "cs: czech\n",
            "da: danish\n",
            "nl: dutch\n",
            "en: english\n",
            "eo: esperanto\n",
            "et: estonian\n",
            "tl: filipino\n",
            "fi: finnish\n",
            "fr: french\n",
            "fy: frisian\n",
            "gl: galician\n",
            "ka: georgian\n",
            "de: german\n",
            "el: greek\n",
            "gu: gujarati\n",
            "ht: haitian creole\n",
            "ha: hausa\n",
            "haw: hawaiian\n",
            "iw: hebrew\n",
            "he: hebrew\n",
            "hi: hindi\n",
            "hmn: hmong\n",
            "hu: hungarian\n",
            "is: icelandic\n",
            "ig: igbo\n",
            "id: indonesian\n",
            "ga: irish\n",
            "it: italian\n",
            "ja: japanese\n",
            "jw: javanese\n",
            "kn: kannada\n",
            "kk: kazakh\n",
            "km: khmer\n",
            "ko: korean\n",
            "ku: kurdish (kurmanji)\n",
            "ky: kyrgyz\n",
            "lo: lao\n",
            "la: latin\n",
            "lv: latvian\n",
            "lt: lithuanian\n",
            "lb: luxembourgish\n",
            "mk: macedonian\n",
            "mg: malagasy\n",
            "ms: malay\n",
            "ml: malayalam\n",
            "mt: maltese\n",
            "mi: maori\n",
            "mr: marathi\n",
            "mn: mongolian\n",
            "my: myanmar (burmese)\n",
            "ne: nepali\n",
            "no: norwegian\n",
            "or: odia\n",
            "ps: pashto\n",
            "fa: persian\n",
            "pl: polish\n",
            "pt: portuguese\n",
            "pa: punjabi\n",
            "ro: romanian\n",
            "ru: russian\n",
            "sm: samoan\n",
            "gd: scots gaelic\n",
            "sr: serbian\n",
            "st: sesotho\n",
            "sn: shona\n",
            "sd: sindhi\n",
            "si: sinhala\n",
            "sk: slovak\n",
            "sl: slovenian\n",
            "so: somali\n",
            "es: spanish\n",
            "su: sundanese\n",
            "sw: swahili\n",
            "sv: swedish\n",
            "tg: tajik\n",
            "ta: tamil\n",
            "te: telugu\n",
            "th: thai\n",
            "tr: turkish\n",
            "uk: ukrainian\n",
            "ur: urdu\n",
            "ug: uyghur\n",
            "uz: uzbek\n",
            "vi: vietnamese\n",
            "cy: welsh\n",
            "xh: xhosa\n",
            "yi: yiddish\n",
            "yo: yoruba\n",
            "zu: zulu\n"
          ]
        }
      ]
    },
    {
      "cell_type": "code",
      "source": [
        "summary = \"Thank you for attending today meeting. thank you okay with Bonnie everyone . Google do you have any questions? Please email us at the end of the meeting. We'll be happy to answer any of our questions. Please share your thoughts with us on Twitter @dailymailonline.com and iReport .\"\n",
        "selected_language = input(\"\\nEnter the language code you want to translate to: \")"
      ],
      "metadata": {
        "colab": {
          "base_uri": "https://localhost:8080/"
        },
        "id": "obkHqrjbOcTB",
        "outputId": "5db97e70-62ba-4c75-d00f-21ae4ae60b02"
      },
      "execution_count": 31,
      "outputs": [
        {
          "name": "stdout",
          "output_type": "stream",
          "text": [
            "\n",
            "Enter the language code you want to translate to: ko\n"
          ]
        }
      ]
    },
    {
      "cell_type": "code",
      "source": [
        "translated_summary_text = translated_summary(summary, selected_language)\n",
        "print(f\"\\nTranslated Summary({available_languages[selected_language]}):\")\n",
        "print(translated_summary_text)"
      ],
      "metadata": {
        "colab": {
          "base_uri": "https://localhost:8080/"
        },
        "id": "FoElyp9HKdCJ",
        "outputId": "b1f81a89-d12a-42a8-bdf4-4175c319d02a"
      },
      "execution_count": 32,
      "outputs": [
        {
          "output_type": "stream",
          "name": "stdout",
          "text": [
            "\n",
            "Translated Summary(korean):\n",
            "None\n"
          ]
        }
      ]
    }
  ]
}