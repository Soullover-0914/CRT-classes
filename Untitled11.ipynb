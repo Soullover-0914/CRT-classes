{
  "nbformat": 4,
  "nbformat_minor": 0,
  "metadata": {
    "colab": {
      "provenance": [],
      "authorship_tag": "ABX9TyOYxc6kSxp6C/1c40g+2Igm",
      "include_colab_link": true
    },
    "kernelspec": {
      "name": "python3",
      "display_name": "Python 3"
    },
    "language_info": {
      "name": "python"
    }
  },
  "cells": [
    {
      "cell_type": "markdown",
      "metadata": {
        "id": "view-in-github",
        "colab_type": "text"
      },
      "source": [
        "<a href=\"https://colab.research.google.com/github/Soullover-0914/CRT-classes/blob/main/Untitled11.ipynb\" target=\"_parent\"><img src=\"https://colab.research.google.com/assets/colab-badge.svg\" alt=\"Open In Colab\"/></a>"
      ]
    },
    {
      "cell_type": "code",
      "execution_count": null,
      "metadata": {
        "colab": {
          "base_uri": "https://localhost:8080/"
        },
        "id": "iXGT3n-Qr84a",
        "outputId": "eb4d9385-6634-4a26-feda-1de1ca0dfb06"
      },
      "outputs": [
        {
          "output_type": "stream",
          "name": "stdout",
          "text": [
            "Collecting gTTS\n",
            "  Downloading gTTS-2.5.4-py3-none-any.whl.metadata (4.1 kB)\n",
            "Requirement already satisfied: requests<3,>=2.27 in /usr/local/lib/python3.11/dist-packages (from gTTS) (2.32.3)\n",
            "Collecting click<8.2,>=7.1 (from gTTS)\n",
            "  Downloading click-8.1.8-py3-none-any.whl.metadata (2.3 kB)\n",
            "Requirement already satisfied: charset-normalizer<4,>=2 in /usr/local/lib/python3.11/dist-packages (from requests<3,>=2.27->gTTS) (3.4.2)\n",
            "Requirement already satisfied: idna<4,>=2.5 in /usr/local/lib/python3.11/dist-packages (from requests<3,>=2.27->gTTS) (3.10)\n",
            "Requirement already satisfied: urllib3<3,>=1.21.1 in /usr/local/lib/python3.11/dist-packages (from requests<3,>=2.27->gTTS) (2.4.0)\n",
            "Requirement already satisfied: certifi>=2017.4.17 in /usr/local/lib/python3.11/dist-packages (from requests<3,>=2.27->gTTS) (2025.4.26)\n",
            "Downloading gTTS-2.5.4-py3-none-any.whl (29 kB)\n",
            "Downloading click-8.1.8-py3-none-any.whl (98 kB)\n",
            "\u001b[2K   \u001b[90m━━━━━━━━━━━━━━━━━━━━━━━━━━━━━━━━━━━━━━━━\u001b[0m \u001b[32m98.2/98.2 kB\u001b[0m \u001b[31m7.9 MB/s\u001b[0m eta \u001b[36m0:00:00\u001b[0m\n",
            "\u001b[?25hInstalling collected packages: click, gTTS\n",
            "  Attempting uninstall: click\n",
            "    Found existing installation: click 8.2.0\n",
            "    Uninstalling click-8.2.0:\n",
            "      Successfully uninstalled click-8.2.0\n",
            "Successfully installed click-8.1.8 gTTS-2.5.4\n"
          ]
        }
      ],
      "source": [
        "!pip install gTTS"
      ]
    },
    {
      "cell_type": "code",
      "source": [
        "from gtts import gTTS\n",
        "from IPython.display import Audio"
      ],
      "metadata": {
        "id": "RfstwBlrsllj"
      },
      "execution_count": null,
      "outputs": []
    },
    {
      "cell_type": "code",
      "source": [
        "a = gTTS(input(\"Enter any text:\"))"
      ],
      "metadata": {
        "colab": {
          "base_uri": "https://localhost:8080/"
        },
        "id": "bXOydf1Bst0J",
        "outputId": "c0411d7c-5691-4ed7-d980-d45b5bdd2439"
      },
      "execution_count": null,
      "outputs": [
        {
          "name": "stdout",
          "output_type": "stream",
          "text": [
            "Enter any text:Good Morning Sir!\n"
          ]
        }
      ]
    },
    {
      "cell_type": "code",
      "source": [
        "a.save(\"speech.mp3\")"
      ],
      "metadata": {
        "id": "uEaPZ0q-tFZK"
      },
      "execution_count": null,
      "outputs": []
    },
    {
      "cell_type": "code",
      "source": [
        "Audio(\"speech.mp3\")"
      ],
      "metadata": {
        "colab": {
          "base_uri": "https://localhost:8080/",
          "height": 75
        },
        "id": "9EFoh6lotLmp",
        "outputId": "e683b644-6920-45a6-d480-4fd7dd4a014d"
      },
      "execution_count": null,
      "outputs": [
        {
          "output_type": "execute_result",
          "data": {
            "text/plain": [
              "<IPython.lib.display.Audio object>"
            ],
            "text/html": [
              "\n",
              "                <audio  controls=\"controls\" >\n",
              "                    <source src=\"data:audio/mpeg;base64,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\" type=\"audio/mpeg\" />\n",
              "                    Your browser does not support the audio element.\n",
              "                </audio>\n",
              "              "
            ]
          },
          "metadata": {},
          "execution_count": 8
        }
      ]
    },
    {
      "cell_type": "code",
      "source": [],
      "metadata": {
        "id": "KIo1_3t7tiXx"
      },
      "execution_count": null,
      "outputs": []
    }
  ]
}